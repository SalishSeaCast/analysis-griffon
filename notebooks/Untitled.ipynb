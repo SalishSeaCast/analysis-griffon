{
 "cells": [
  {
   "cell_type": "code",
   "execution_count": 15,
   "id": "7d8f14c8-e342-4cfe-80cf-ca7d6235e059",
   "metadata": {},
   "outputs": [],
   "source": [
    "import salishsea_tools\n",
    "import xarray as xr\n",
    "import netCDF4 as nc\n",
    "from salishsea_tools import geo_tools\n",
    "from salishsea_tools import tidetools"
   ]
  },
  {
   "cell_type": "code",
   "execution_count": 24,
   "id": "c5365b73-4393-432c-b8ec-97512637d34b",
   "metadata": {},
   "outputs": [
    {
     "name": "stdout",
     "output_type": "stream",
     "text": [
      "<class 'netCDF4._netCDF4.Dataset'>\n",
      "212\n",
      "254\n"
     ]
    }
   ],
   "source": [
    "SSCmesh = xr.open_dataset('/home/sallen/MEOPAR/grid/mesh_mask202108.nc')\n",
    "mesh_nc = nc.Dataset('/ocean/mdunphy/CIOPSW-BC12/grid/mesh_mask_Bathymetry_NEP36_714x1020_SRTM30v11_NOAA3sec_WCTSS_JdeFSalSea.nc')\n",
    "print(type(mesh_nc))\n",
    "\n",
    "nc_file = \"/home/sallen/MEOPAR/grid/mesh_mask202108.nc\"\n",
    "nc_to_plot = nc.Dataset(nc_file)\n",
    "\n",
    "#bathy, X, Y = tidetools.get_bathy_data(nc_to_plot)\n",
    "X = nc_to_plot.variables[\"nav_lon\"][:, :]\n",
    "Y = nc_to_plot.variables[\"nav_lat\"][:, :]\n",
    "\n",
    "\n",
    "\n",
    "lat_model, lon_model = geo_tools.find_closest_model_point(-122.78,48.18,X,Y)\n",
    "print(lat_model) \n",
    "print(lon_model)"
   ]
  },
  {
   "cell_type": "code",
   "execution_count": 23,
   "id": "e0dab520-b2cf-40de-884d-34d6f31842be",
   "metadata": {
    "scrolled": true
   },
   "outputs": [
    {
     "data": {
      "text/plain": [
       "<class 'netCDF4.Dataset'>\n",
       "root group (NETCDF4 data model, file format HDF5):\n",
       "    file_name: grid/mesh_mask202108.nc\n",
       "    TimeStamp: 07/08/2021 17:25:49 -0700\n",
       "    Conventions: CF-1.6\n",
       "    title: SalishSeaCast NEMO bathymetry_202108 Bathymetry Mesh Mask\n",
       "    institution: Dept of Earth, Ocean & Atmospheric Sciences, University of British Columbia\n",
       "    source: NEMO-3.6 SalishSeaCast configuration\n",
       "    references: https://github.com/SalishSeaCast/tools/blob/main/bathymetry/Process202108Bathymetry.ipynb\n",
       "    history: [2021-08-07 17:25] ncks -4 -L4 -O mesh_mask.nc mesh_mask202108.nc\n",
       "[2023-12-19 13:36] Added metadata to variables in preparation for creation of ERDDAP datasets.\n",
       "    dimensions(sizes): t(1), y(898), x(398), z(40)\n",
       "    variables(dimensions): float32 nav_lon(y, x), float32 nav_lat(y, x), float64 time_counter(t), int8 tmask(t, z, y, x), int8 umask(t, z, y, x), int8 vmask(t, z, y, x), int8 fmask(t, z, y, x), int8 tmaskutil(t, y, x), int8 umaskutil(t, y, x), int8 vmaskutil(t, y, x), int8 fmaskutil(t, y, x), float32 glamt(t, y, x), float32 glamu(t, y, x), float32 glamv(t, y, x), float32 glamf(t, y, x), float32 gphit(t, y, x), float32 gphiu(t, y, x), float32 gphiv(t, y, x), float32 gphif(t, y, x), float64 e1t(t, y, x), float64 e1u(t, y, x), float64 e1v(t, y, x), float64 e1f(t, y, x), float64 e2t(t, y, x), float64 e2u(t, y, x), float64 e2v(t, y, x), float64 e2f(t, y, x), float64 ff(t, y, x), int16 mbathy(t, y, x), int16 misf(t, y, x), float32 isfdraft(t, y, x), float64 e3t_0(t, z, y, x), float64 e3u_0(t, z, y, x), float64 e3v_0(t, z, y, x), float64 e3w_0(t, z, y, x), float32 gdept_0(t, z, y, x), float32 gdepu(t, z, y, x), float32 gdepv(t, z, y, x), float32 gdepw_0(t, z, y, x), float64 gdept_1d(t, z), float64 gdepw_1d(t, z), float64 e3t_1d(t, z), float64 e3w_1d(t, z)\n",
       "    groups: "
      ]
     },
     "execution_count": 23,
     "metadata": {},
     "output_type": "execute_result"
    }
   ],
   "source": [
    "nc_to_plot"
   ]
  },
  {
   "cell_type": "code",
   "execution_count": null,
   "id": "687538c8-318e-447d-bb17-046d52f13f77",
   "metadata": {},
   "outputs": [],
   "source": []
  }
 ],
 "metadata": {
  "kernelspec": {
   "display_name": "Python 3 (ipykernel)",
   "language": "python",
   "name": "python3"
  },
  "language_info": {
   "codemirror_mode": {
    "name": "ipython",
    "version": 3
   },
   "file_extension": ".py",
   "mimetype": "text/x-python",
   "name": "python",
   "nbconvert_exporter": "python",
   "pygments_lexer": "ipython3",
   "version": "3.13.3"
  }
 },
 "nbformat": 4,
 "nbformat_minor": 5
}
