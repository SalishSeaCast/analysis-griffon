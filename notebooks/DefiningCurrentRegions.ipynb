{
 "cells": [
  {
   "cell_type": "code",
   "execution_count": 6,
   "id": "b365be0c-01e1-451b-a366-252938144b93",
   "metadata": {},
   "outputs": [],
   "source": [
    "import numpy as np\n",
    "import pandas as pd\n",
    "import matplotlib.pyplot as plt\n",
    "from cartopy import crs, feature\n",
    "from cartopy.mpl.gridliner import LONGITUDE_FORMATTER, LATITUDE_FORMATTER\n",
    "\n",
    "IOPATH = '/ocean/ghoeven/MOAD/Data/PNW_obs_compiled.csv'"
   ]
  },
  {
   "cell_type": "code",
   "execution_count": 9,
   "id": "e1f6dc36-c1b6-472a-9614-75e9355fd374",
   "metadata": {},
   "outputs": [],
   "source": [
    "ob = pd.read_csv(IOPATH)\n",
    "ob['current'] = np.nan\n"
   ]
  },
  {
   "cell_type": "code",
   "execution_count": null,
   "id": "bfe02bbb-e0fb-49ce-afec-71cd387a6790",
   "metadata": {},
   "outputs": [],
   "source": [
    "# Shelf Current\n",
    "\n"
   ]
  }
 ],
 "metadata": {
  "kernelspec": {
   "display_name": "Python 3 (ipykernel)",
   "language": "python",
   "name": "python3"
  },
  "language_info": {
   "codemirror_mode": {
    "name": "ipython",
    "version": 3
   },
   "file_extension": ".py",
   "mimetype": "text/x-python",
   "name": "python",
   "nbconvert_exporter": "python",
   "pygments_lexer": "ipython3",
   "version": "3.13.3"
  }
 },
 "nbformat": 4,
 "nbformat_minor": 5
}
